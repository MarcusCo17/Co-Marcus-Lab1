{
 "cells": [
  {
   "cell_type": "code",
   "execution_count": 1,
   "metadata": {},
   "outputs": [
    {
     "ename": "SyntaxError",
     "evalue": "invalid syntax (<ipython-input-1-d2dffecd62f3>, line 3)",
     "output_type": "error",
     "traceback": [
      "\u001b[1;36m  File \u001b[1;32m\"<ipython-input-1-d2dffecd62f3>\"\u001b[1;36m, line \u001b[1;32m3\u001b[0m\n\u001b[1;33m    2 BS ITE\u001b[0m\n\u001b[1;37m      ^\u001b[0m\n\u001b[1;31mSyntaxError\u001b[0m\u001b[1;31m:\u001b[0m invalid syntax\n"
     ]
    }
   ],
   "source": [
    "191249\n",
    "Co\n",
    "2 BS ITE"
   ]
  },
  {
   "cell_type": "code",
   "execution_count": 4,
   "metadata": {},
   "outputs": [
    {
     "name": "stdout",
     "output_type": "stream",
     "text": [
      "Enter the amount in US Dollars: 50\n",
      "50.0 US dollar(s) = 2500.0 Philippine Pesos.\n"
     ]
    }
   ],
   "source": [
    "def currencyconverter():\n",
    "    dollar=float(input(\"Enter the amount in US Dollars: \"))\n",
    "    peso=dollar*50\n",
    "    print(dollar, \"US dollar(s) \" + \"=\", peso, \"Philippine Pesos.\")\n",
    "\n",
    "currencyconverter()"
   ]
  },
  {
   "cell_type": "code",
   "execution_count": 6,
   "metadata": {},
   "outputs": [
    {
     "name": "stdout",
     "output_type": "stream",
     "text": [
      "Enter the first integer: 9\n",
      "Enter the second integer: 4\n",
      "13.0\n",
      "5.0\n",
      "36.0\n",
      "2.0\n",
      "1.0\n"
     ]
    }
   ],
   "source": [
    "def numbercalc():\n",
    "    number1=float(input(\"Enter the first integer: \"))\n",
    "    number2=float(input(\"Enter the second integer: \"))\n",
    "    calc1=number1+number2\n",
    "    calc2=number1-number2\n",
    "    calc3=number1*number2\n",
    "    calc4=number1//number2\n",
    "    calc5=number1%number2\n",
    "    print(calc1)\n",
    "    print(calc2)\n",
    "    print(calc3)\n",
    "    print(calc4)\n",
    "    print(calc5)\n",
    "numbercalc()\n",
    "    "
   ]
  },
  {
   "cell_type": "code",
   "execution_count": 16,
   "metadata": {},
   "outputs": [
    {
     "name": "stdout",
     "output_type": "stream",
     "text": [
      "Enter kg: 9\n",
      "Enter cm: 200\n",
      "BMI: 2.25\n"
     ]
    }
   ],
   "source": [
    "def bmicalc():\n",
    "    kg=float(input(\"Enter kg: \"))\n",
    "    cm=float(input(\"Enter cm: \"))\n",
    "    m=float(cm/100)\n",
    "    bmi=kg/(m*m)\n",
    "    print(\"BMI:\", bmi)\n",
    "bmicalc()"
   ]
  },
  {
   "cell_type": "code",
   "execution_count": null,
   "metadata": {},
   "outputs": [],
   "source": []
  },
  {
   "cell_type": "code",
   "execution_count": null,
   "metadata": {},
   "outputs": [],
   "source": []
  }
 ],
 "metadata": {
  "kernelspec": {
   "display_name": "Python 3",
   "language": "python",
   "name": "python3"
  },
  "language_info": {
   "codemirror_mode": {
    "name": "ipython",
    "version": 3
   },
   "file_extension": ".py",
   "mimetype": "text/x-python",
   "name": "python",
   "nbconvert_exporter": "python",
   "pygments_lexer": "ipython3",
   "version": "3.8.3"
  }
 },
 "nbformat": 4,
 "nbformat_minor": 4
}
